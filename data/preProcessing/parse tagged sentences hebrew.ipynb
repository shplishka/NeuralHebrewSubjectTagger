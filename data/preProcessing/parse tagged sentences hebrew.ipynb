{
 "cells": [
  {
   "cell_type": "code",
   "execution_count": 35,
   "metadata": {},
   "outputs": [],
   "source": [
    "path_file = \"/home/mishka/project_chalas/final files/Data/Hebrew/parsed.txt\"\n",
    "not_parse_file = '/home/mishka/project_chalas/final files/Data/Hebrew/SVLM_Hebrew_Wikipedia_Corpus.txt'\n",
    "csv_tagged_sentences_path = 'hebrew_tagged.csv'\n",
    "Tagged_sentences_clear_path = 'hebrew_tagged.txt'\n",
    "num_examples = 50000"
   ]
  },
  {
   "cell_type": "code",
   "execution_count": 36,
   "metadata": {},
   "outputs": [],
   "source": [
    "fp = open(path_file, 'r')\n",
    "contents =fp.readlines()\n",
    "sentences = open(not_parse_file).readlines()\n",
    "List = open(path_file).readlines()"
   ]
  },
  {
   "cell_type": "code",
   "execution_count": 37,
   "metadata": {},
   "outputs": [],
   "source": [
    "import re\n",
    "listoflists = []\n",
    "sublist = []\n",
    "for i in List:\n",
    "    if i.find(\"SBJ\") !=-1:\n",
    "        i = re.sub(r\"[^א-ת]+\", \" \", i)\n",
    "        sublist.append(i)\n",
    "    elif i == '\\n':\n",
    "        listoflists.append(sublist)\n",
    "        sublist = []"
   ]
  },
  {
   "cell_type": "code",
   "execution_count": 38,
   "metadata": {},
   "outputs": [],
   "source": [
    "def listToString(s):  \n",
    "    \n",
    "    # initialize an empty string \n",
    "    str1 = \"\"  \n",
    "    \n",
    "    # traverse in the string   \n",
    "    for ele in s:  \n",
    "        str1 += ele   \n",
    "    \n",
    "    # return string   \n",
    "    return str1  "
   ]
  },
  {
   "cell_type": "code",
   "execution_count": 39,
   "metadata": {},
   "outputs": [],
   "source": [
    "clear_lines = []\n",
    "for tag, sentence in zip(listoflists[:num_examples],sentences[:num_examples]):\n",
    "    clear_lines.append(listToString(tag) + '\\t' + sentence)\n",
    "    \n",
    "subject = []\n",
    "sentences = []\n",
    "for line in clear_lines:\n",
    "    line = line.split('\\t')\n",
    "    sentences.append(line[1])\n",
    "    subject.append(line[0])"
   ]
  },
  {
   "cell_type": "code",
   "execution_count": 24,
   "metadata": {},
   "outputs": [],
   "source": [
    "subject = []\n",
    "sentences = []\n",
    "for tag, sentence in zip(listoflists[:num_examples],sentences[:num_examples]):\n",
    "    sentences.append(sentence)\n",
    "    subject.append(listToString(tag))"
   ]
  },
  {
   "cell_type": "code",
   "execution_count": 25,
   "metadata": {},
   "outputs": [
    {
     "data": {
      "text/plain": [
       "[]"
      ]
     },
     "execution_count": 25,
     "metadata": {},
     "output_type": "execute_result"
    }
   ],
   "source": [
    "sentences"
   ]
  },
  {
   "cell_type": "code",
   "execution_count": 40,
   "metadata": {},
   "outputs": [],
   "source": [
    "import pandas as pd\n",
    "trainDF = pd.DataFrame()\n",
    "trainDF['subject'] = subject[:num_examples]\n",
    "trainDF['sentence'] = sentences[:num_examples]\n",
    "mask = (trainDF['subject'].str.len()>1)\n",
    "trainDF = trainDF.loc[mask]\n",
    "trainDF.to_csv(csv_tagged_sentences_path)"
   ]
  },
  {
   "cell_type": "code",
   "execution_count": 41,
   "metadata": {},
   "outputs": [
    {
     "data": {
      "text/html": [
       "<div>\n",
       "<style scoped>\n",
       "    .dataframe tbody tr th:only-of-type {\n",
       "        vertical-align: middle;\n",
       "    }\n",
       "\n",
       "    .dataframe tbody tr th {\n",
       "        vertical-align: top;\n",
       "    }\n",
       "\n",
       "    .dataframe thead th {\n",
       "        text-align: right;\n",
       "    }\n",
       "</style>\n",
       "<table border=\"1\" class=\"dataframe\">\n",
       "  <thead>\n",
       "    <tr style=\"text-align: right;\">\n",
       "      <th></th>\n",
       "      <th>subject</th>\n",
       "      <th>sentence</th>\n",
       "    </tr>\n",
       "  </thead>\n",
       "  <tbody>\n",
       "    <tr>\n",
       "      <th>0</th>\n",
       "      <td>קורות</td>\n",
       "      <td>קורות חייו צמרת למד בחוגים לחינוך ופילוסופיה ב...</td>\n",
       "    </tr>\n",
       "    <tr>\n",
       "      <th>3</th>\n",
       "      <td>פרסומים</td>\n",
       "      <td>פרסומים עיקריים מקורות המחשבה הצבאית המודרנית ...</td>\n",
       "    </tr>\n",
       "    <tr>\n",
       "      <th>7</th>\n",
       "      <td>מרוקו</td>\n",
       "      <td>מרוקו הצטרפה למשפחת האירוויזיון בפעם הראשונה ו...</td>\n",
       "    </tr>\n",
       "    <tr>\n",
       "      <th>12</th>\n",
       "      <td>קו</td>\n",
       "      <td>כתוצאה ממלחמת העצמאות ובעקבות הסכמי שביתת הנשק...</td>\n",
       "    </tr>\n",
       "    <tr>\n",
       "      <th>13</th>\n",
       "      <td>הסבר</td>\n",
       "      <td>הסבר לחשיבות הקריטריון ניתן למצוא בדיון שנערך ...</td>\n",
       "    </tr>\n",
       "    <tr>\n",
       "      <th>...</th>\n",
       "      <td>...</td>\n",
       "      <td>...</td>\n",
       "    </tr>\n",
       "    <tr>\n",
       "      <th>49993</th>\n",
       "      <td>זה  ערך</td>\n",
       "      <td>אבל זה לא הערך הערך הוא הרב טאו\\n</td>\n",
       "    </tr>\n",
       "    <tr>\n",
       "      <th>49995</th>\n",
       "      <td>הוא</td>\n",
       "      <td>ב כל מהנדס חומרה הוא מהנדס חשמל\\n</td>\n",
       "    </tr>\n",
       "    <tr>\n",
       "      <th>49996</th>\n",
       "      <td>דרך</td>\n",
       "      <td>דרך בורמה בורמה היא הדרך המקורית\\n</td>\n",
       "    </tr>\n",
       "    <tr>\n",
       "      <th>49998</th>\n",
       "      <td>היסטוריה</td>\n",
       "      <td>גם היסטוריה רוחנית גם היסטוריה מדינית\\n</td>\n",
       "    </tr>\n",
       "    <tr>\n",
       "      <th>49999</th>\n",
       "      <td>בי ס</td>\n",
       "      <td>בי\"ס ימי זבולון רפול בי\"ס ימי זבולון\\n</td>\n",
       "    </tr>\n",
       "  </tbody>\n",
       "</table>\n",
       "<p>36337 rows × 2 columns</p>\n",
       "</div>"
      ],
      "text/plain": [
       "          subject                                           sentence\n",
       "0          קורות   קורות חייו צמרת למד בחוגים לחינוך ופילוסופיה ב...\n",
       "3        פרסומים   פרסומים עיקריים מקורות המחשבה הצבאית המודרנית ...\n",
       "7          מרוקו   מרוקו הצטרפה למשפחת האירוויזיון בפעם הראשונה ו...\n",
       "12            קו   כתוצאה ממלחמת העצמאות ובעקבות הסכמי שביתת הנשק...\n",
       "13          הסבר   הסבר לחשיבות הקריטריון ניתן למצוא בדיון שנערך ...\n",
       "...           ...                                                ...\n",
       "49993    זה  ערך                   אבל זה לא הערך הערך הוא הרב טאו\\n\n",
       "49995        הוא                   ב כל מהנדס חומרה הוא מהנדס חשמל\\n\n",
       "49996        דרך                  דרך בורמה בורמה היא הדרך המקורית\\n\n",
       "49998   היסטוריה             גם היסטוריה רוחנית גם היסטוריה מדינית\\n\n",
       "49999       בי ס              בי\"ס ימי זבולון רפול בי\"ס ימי זבולון\\n\n",
       "\n",
       "[36337 rows x 2 columns]"
      ]
     },
     "execution_count": 41,
     "metadata": {},
     "output_type": "execute_result"
    }
   ],
   "source": [
    "trainDF"
   ]
  },
  {
   "cell_type": "code",
   "execution_count": null,
   "metadata": {},
   "outputs": [],
   "source": []
  }
 ],
 "metadata": {
  "kernelspec": {
   "display_name": "Python 3",
   "language": "python",
   "name": "python3"
  },
  "language_info": {
   "codemirror_mode": {
    "name": "ipython",
    "version": 3
   },
   "file_extension": ".py",
   "mimetype": "text/x-python",
   "name": "python",
   "nbconvert_exporter": "python",
   "pygments_lexer": "ipython3",
   "version": "3.6.9"
  }
 },
 "nbformat": 4,
 "nbformat_minor": 2
}
