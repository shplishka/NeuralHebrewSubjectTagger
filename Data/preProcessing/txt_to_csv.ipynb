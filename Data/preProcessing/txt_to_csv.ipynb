{
 "cells": [
  {
   "cell_type": "markdown",
   "metadata": {},
   "source": [
    "# Make CSV file for train set"
   ]
  },
  {
   "cell_type": "markdown",
   "metadata": {},
   "source": [
    "we "
   ]
  },
  {
   "cell_type": "code",
   "execution_count": 27,
   "metadata": {},
   "outputs": [],
   "source": [
    "import os\n",
    "import sys\n",
    "import pandas as pd\n",
    "from sklearn import model_selection, preprocessing, linear_model, naive_bayes, metrics, svm\n",
    "\n",
    "Tagged_sentences_not_clear_path = \"Tagged sentences.txt\"\n",
    "Tagged_sentences_clear_path = \"Tagged sentences clear.txt\"\n",
    "csv_tagged_sentences_path ='tagged_sentences.csv'"
   ]
  },
  {
   "cell_type": "markdown",
   "metadata": {},
   "source": [
    "### clear lines"
   ]
  },
  {
   "cell_type": "code",
   "execution_count": 28,
   "metadata": {},
   "outputs": [],
   "source": [
    "fp = open(Tagged_sentences_not_clear_path, 'r')\n",
    "contents =fp.readlines()\n",
    "clear_lines = []\n",
    "for number,line in enumerate(contents):\n",
    "    if (len(line)>1):\n",
    "        clear_lines.append(line)"
   ]
  },
  {
   "cell_type": "markdown",
   "metadata": {},
   "source": [
    "###  match word to sentence"
   ]
  },
  {
   "cell_type": "code",
   "execution_count": 29,
   "metadata": {},
   "outputs": [],
   "source": [
    "wp = open(Tagged_sentences_clear_path, 'w+')\n",
    "i = zip(*[iter(clear_lines)]*2)"
   ]
  },
  {
   "cell_type": "code",
   "execution_count": 30,
   "metadata": {},
   "outputs": [],
   "source": [
    "for line in i:\n",
    "    clear_line = line[1].rstrip(\"\\n\\r\")+\"\\t\"+line[0].rstrip(\"\\n\\r\")+\"\\n\"\n",
    "    wp.write(clear_line)\n",
    "wp.close()"
   ]
  },
  {
   "cell_type": "code",
   "execution_count": 31,
   "metadata": {},
   "outputs": [],
   "source": [
    "subject = []\n",
    "sentences = []\n",
    "for line in zip(*[iter(clear_lines)]*2):\n",
    "    subject.append(line[1].rstrip(\"\\n\\r\"))\n",
    "    sentences.append(line[0].rstrip(\"\\n\\r\"))"
   ]
  },
  {
   "cell_type": "markdown",
   "metadata": {},
   "source": [
    "### csv maker"
   ]
  },
  {
   "cell_type": "code",
   "execution_count": 48,
   "metadata": {},
   "outputs": [
    {
     "data": {
      "text/plain": [
       "(605, 2)"
      ]
     },
     "execution_count": 48,
     "metadata": {},
     "output_type": "execute_result"
    }
   ],
   "source": [
    "\n",
    "trainDF = pd.DataFrame()\n",
    "trainDF['subject'] = subject[:-1]\n",
    "trainDF['sentence'] = sentences[:-1]\n",
    "trainDF['subject'] = trainDF['subject'].astype('str')\n",
    "trainDF['sentence'] = trainDF['sentence'].astype('str')\n",
    "mask = (trainDF['subject'].str.len()<=5)\n",
    "trainDF = trainDF.loc[mask]\n",
    "# saving the dataframe \n",
    "trainDF.to_csv(csv_tagged_sentences_path)\n",
    "trainDF.shape"
   ]
  },
  {
   "cell_type": "code",
   "execution_count": 47,
   "metadata": {},
   "outputs": [
    {
     "data": {
      "text/html": [
       "<div>\n",
       "<style scoped>\n",
       "    .dataframe tbody tr th:only-of-type {\n",
       "        vertical-align: middle;\n",
       "    }\n",
       "\n",
       "    .dataframe tbody tr th {\n",
       "        vertical-align: top;\n",
       "    }\n",
       "\n",
       "    .dataframe thead th {\n",
       "        text-align: right;\n",
       "    }\n",
       "</style>\n",
       "<table border=\"1\" class=\"dataframe\">\n",
       "  <thead>\n",
       "    <tr style=\"text-align: right;\">\n",
       "      <th></th>\n",
       "      <th>subject</th>\n",
       "      <th>sentence</th>\n",
       "    </tr>\n",
       "  </thead>\n",
       "  <tbody>\n",
       "    <tr>\n",
       "      <th>0</th>\n",
       "      <td>משטרת</td>\n",
       "      <td>משטרת ירושלים תחקור את התנהגותו של ח\"כ ג'מאל ...</td>\n",
       "    </tr>\n",
       "    <tr>\n",
       "      <th>1</th>\n",
       "      <td>ח\"כ</td>\n",
       "      <td>היום ( רביעי ) קיבל ח\"כ זחאלקה זימון לפיו עלי...</td>\n",
       "    </tr>\n",
       "    <tr>\n",
       "      <th>2</th>\n",
       "      <td>ח\"כ</td>\n",
       "      <td>כזכור , מחה ח\"כ זחאלקה על כניסה של מבקרים יהו...</td>\n",
       "    </tr>\n",
       "    <tr>\n",
       "      <th>3</th>\n",
       "      <td>אתם</td>\n",
       "      <td>\" זה הבית שלי תלכו מכאן , אתם בושה שאתם מכניס...</td>\n",
       "    </tr>\n",
       "    <tr>\n",
       "      <th>4</th>\n",
       "      <td>אתה</td>\n",
       "      <td>למה אתה מכניס אותם לכאן רק בשביל לעורר פרובקצ...</td>\n",
       "    </tr>\n",
       "    <tr>\n",
       "      <th>...</th>\n",
       "      <td>...</td>\n",
       "      <td>...</td>\n",
       "    </tr>\n",
       "    <tr>\n",
       "      <th>1568</th>\n",
       "      <td>עליות</td>\n",
       "      <td>גורם בכיר במשרד החקלאות אמר למעריב כי \" עליות...</td>\n",
       "    </tr>\n",
       "    <tr>\n",
       "      <th>1569</th>\n",
       "      <td>מה</td>\n",
       "      <td>\" אחת הסיבות למחסור בבשר עופות היא העובדה שהח...</td>\n",
       "    </tr>\n",
       "    <tr>\n",
       "      <th>1570</th>\n",
       "      <td>מחסור</td>\n",
       "      <td>עכשיו , שהשחיטה חזרה לרמה הרגילה , המחסור הול...</td>\n",
       "    </tr>\n",
       "    <tr>\n",
       "      <th>1571</th>\n",
       "      <td>רגיעה</td>\n",
       "      <td>וגם בירקות יש רגיעה .</td>\n",
       "    </tr>\n",
       "    <tr>\n",
       "      <th>1572</th>\n",
       "      <td>סחורה</td>\n",
       "      <td>\" מחיר המלפפונים יורד כי סחורה רבה זורמת לשוק .</td>\n",
       "    </tr>\n",
       "  </tbody>\n",
       "</table>\n",
       "<p>605 rows × 2 columns</p>\n",
       "</div>"
      ],
      "text/plain": [
       "     subject                                           sentence\n",
       "0      משטרת   משטרת ירושלים תחקור את התנהגותו של ח\"כ ג'מאל ...\n",
       "1        ח\"כ   היום ( רביעי ) קיבל ח\"כ זחאלקה זימון לפיו עלי...\n",
       "2        ח\"כ   כזכור , מחה ח\"כ זחאלקה על כניסה של מבקרים יהו...\n",
       "3        אתם   \" זה הבית שלי תלכו מכאן , אתם בושה שאתם מכניס...\n",
       "4        אתה   למה אתה מכניס אותם לכאן רק בשביל לעורר פרובקצ...\n",
       "...      ...                                                ...\n",
       "1568   עליות   גורם בכיר במשרד החקלאות אמר למעריב כי \" עליות...\n",
       "1569      מה   \" אחת הסיבות למחסור בבשר עופות היא העובדה שהח...\n",
       "1570   מחסור   עכשיו , שהשחיטה חזרה לרמה הרגילה , המחסור הול...\n",
       "1571   רגיעה                              וגם בירקות יש רגיעה .\n",
       "1572   סחורה    \" מחיר המלפפונים יורד כי סחורה רבה זורמת לשוק .\n",
       "\n",
       "[605 rows x 2 columns]"
      ]
     },
     "execution_count": 47,
     "metadata": {},
     "output_type": "execute_result"
    }
   ],
   "source": [
    "trainDF"
   ]
  },
  {
   "cell_type": "code",
   "execution_count": 34,
   "metadata": {},
   "outputs": [
    {
     "data": {
      "text/plain": [
       "(1576, 2)"
      ]
     },
     "execution_count": 34,
     "metadata": {},
     "output_type": "execute_result"
    }
   ],
   "source": [
    "trainDF.shape"
   ]
  },
  {
   "cell_type": "code",
   "execution_count": null,
   "metadata": {},
   "outputs": [],
   "source": [
    "for line in i:\n",
    "    clear_line = line[1].rstrip(\"\\n\\r\")+\"\\t\"+line[0].rstrip(\"\\n\\r\")+\"\\n\"\n",
    "    wp.write(clear_line)\n",
    "wp.close()"
   ]
  },
  {
   "cell_type": "code",
   "execution_count": 37,
   "metadata": {},
   "outputs": [],
   "source": [
    "# split the dataset into training and validation datasets \n",
    "train_x, valid_x, train_y, valid_y = model_selection.train_test_split(trainDF['sentence'], trainDF['subject'])\n",
    "\n",
    "# label encode the target variable \n",
    "encoder = preprocessing.LabelEncoder()\n",
    "train_y = encoder.fit_transform(train_y)\n",
    "valid_y = encoder.fit_transform(valid_y)"
   ]
  },
  {
   "cell_type": "code",
   "execution_count": 39,
   "metadata": {},
   "outputs": [
    {
     "data": {
      "text/plain": [
       "(1182,)"
      ]
     },
     "execution_count": 39,
     "metadata": {},
     "output_type": "execute_result"
    }
   ],
   "source": [
    "train_y.shape"
   ]
  },
  {
   "cell_type": "code",
   "execution_count": null,
   "metadata": {},
   "outputs": [],
   "source": []
  }
 ],
 "metadata": {
  "kernelspec": {
   "display_name": "Python 3",
   "language": "python",
   "name": "python3"
  },
  "language_info": {
   "codemirror_mode": {
    "name": "ipython",
    "version": 3
   },
   "file_extension": ".py",
   "mimetype": "text/x-python",
   "name": "python",
   "nbconvert_exporter": "python",
   "pygments_lexer": "ipython3",
   "version": "3.6.9"
  }
 },
 "nbformat": 4,
 "nbformat_minor": 2
}
